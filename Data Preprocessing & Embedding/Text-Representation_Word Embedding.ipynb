{
 "cells": [
  {
   "cell_type": "markdown",
   "id": "3cb3559f-4e66-4282-b088-89bac6ac102e",
   "metadata": {},
   "source": [
    "Some common terms to remember\n",
    "1. Corpus\n",
    "2. Vocabulary\n",
    "3. Document\n",
    "4. Word"
   ]
  },
  {
   "cell_type": "markdown",
   "id": "7f7b6395-6f8e-4533-aafb-dedb2d4aa320",
   "metadata": {},
   "source": [
    "# Bag of words"
   ]
  },
  {
   "cell_type": "code",
   "execution_count": 2,
   "id": "52ffc5f4-29c6-4d80-bfb1-0c47e3596c60",
   "metadata": {},
   "outputs": [],
   "source": [
    "import numpy as np\n",
    "import pandas as pd\n"
   ]
  },
  {
   "cell_type": "code",
   "execution_count": 3,
   "id": "0a406e49-8e35-44cc-9fd2-ebfcf6addc15",
   "metadata": {},
   "outputs": [],
   "source": [
    "df = pd.DataFrame({\"text\":[\"people watch dswithbappy\",\n",
    "                         \"dswithbappy watch dswithbappy\",\n",
    "                         \"people write comment\",\n",
    "                          \"dswithbappy write comment\"],\"output\":[1,1,0,0]})"
   ]
  },
  {
   "cell_type": "code",
   "execution_count": 4,
   "id": "3b039b89-a579-4c28-b7bf-8b532c300541",
   "metadata": {},
   "outputs": [
    {
     "data": {
      "text/html": [
       "<div>\n",
       "<style scoped>\n",
       "    .dataframe tbody tr th:only-of-type {\n",
       "        vertical-align: middle;\n",
       "    }\n",
       "\n",
       "    .dataframe tbody tr th {\n",
       "        vertical-align: top;\n",
       "    }\n",
       "\n",
       "    .dataframe thead th {\n",
       "        text-align: right;\n",
       "    }\n",
       "</style>\n",
       "<table border=\"1\" class=\"dataframe\">\n",
       "  <thead>\n",
       "    <tr style=\"text-align: right;\">\n",
       "      <th></th>\n",
       "      <th>text</th>\n",
       "      <th>output</th>\n",
       "    </tr>\n",
       "  </thead>\n",
       "  <tbody>\n",
       "    <tr>\n",
       "      <th>0</th>\n",
       "      <td>people watch dswithbappy</td>\n",
       "      <td>1</td>\n",
       "    </tr>\n",
       "    <tr>\n",
       "      <th>1</th>\n",
       "      <td>dswithbappy watch dswithbappy</td>\n",
       "      <td>1</td>\n",
       "    </tr>\n",
       "    <tr>\n",
       "      <th>2</th>\n",
       "      <td>people write comment</td>\n",
       "      <td>0</td>\n",
       "    </tr>\n",
       "    <tr>\n",
       "      <th>3</th>\n",
       "      <td>dswithbappy write comment</td>\n",
       "      <td>0</td>\n",
       "    </tr>\n",
       "  </tbody>\n",
       "</table>\n",
       "</div>"
      ],
      "text/plain": [
       "                            text  output\n",
       "0       people watch dswithbappy       1\n",
       "1  dswithbappy watch dswithbappy       1\n",
       "2           people write comment       0\n",
       "3      dswithbappy write comment       0"
      ]
     },
     "execution_count": 4,
     "metadata": {},
     "output_type": "execute_result"
    }
   ],
   "source": [
    "df"
   ]
  },
  {
   "cell_type": "code",
   "execution_count": 5,
   "id": "b8359eb6-194b-4462-8429-01d04f742acf",
   "metadata": {},
   "outputs": [],
   "source": [
    "from sklearn.feature_extraction.text import CountVectorizer\n",
    "cv=CountVectorizer()"
   ]
  },
  {
   "cell_type": "markdown",
   "id": "4b905ef3-8def-4283-8761-01179796541b",
   "metadata": {},
   "source": [
    "CountVectorizer from sklearn.feature_extraction.text is a tool used in natural language processing (NLP) to convert a collection of text documents into a numerical format that machine learning models can understand.\n",
    "\n",
    "Here’s what happens when you create and use it:\n",
    "\n",
    "It tokenizes the text: breaks text into words or tokens.\n",
    "\n",
    "It counts the frequency of each token (word) in the documents.\n",
    "\n",
    "It creates a document-term matrix, where each row is a document/text, and each column corresponds to a unique word from the entire set of documents.\n",
    "\n",
    "The value in the matrix cells is the count of how many times the word appears in that document."
   ]
  },
  {
   "cell_type": "raw",
   "id": "38b433f1-16ec-4959-9660-68b6294686cf",
   "metadata": {},
   "source": [
    "Explanation:\n",
    "CountVectorizer is a class from the scikit-learn library used for text feature extraction.\n",
    "\n",
    "It converts a collection of text documents into a matrix of token counts.\n",
    "\n",
    "This matrix is called a document-term matrix, where:\n",
    "\n",
    "Rows represent documents (text samples).\n",
    "\n",
    "Columns represent words (tokens) found across all documents.\n",
    "\n",
    "Each cell contains the count of the word’s occurrence in that document.\n",
    "\n",
    "What happens when you do cv = CountVectorizer()?\n",
    "You create an instance of CountVectorizer with default settings.\n",
    "\n",
    "This object can then be fitted on the text data to learn the vocabulary of unique words.\n",
    "\n",
    "After fitting, it can transform text data into numeric vectors based on word frequencies."
   ]
  },
  {
   "cell_type": "code",
   "execution_count": 6,
   "id": "2bb677fe-4a14-4bd6-992f-f4d2e19af6c0",
   "metadata": {},
   "outputs": [],
   "source": [
    "bow=cv.fit_transform(df['text'])"
   ]
  },
  {
   "cell_type": "code",
   "execution_count": 7,
   "id": "11b89932-087d-45e8-90e7-c5e23bf2117a",
   "metadata": {},
   "outputs": [
    {
     "name": "stdout",
     "output_type": "stream",
     "text": [
      "{'people': 2, 'watch': 3, 'dswithbappy': 1, 'write': 4, 'comment': 0}\n"
     ]
    }
   ],
   "source": [
    "#vocanulary\n",
    "print(cv.vocabulary_)"
   ]
  },
  {
   "cell_type": "code",
   "execution_count": 8,
   "id": "b341caaa-6411-4966-80ef-cc92aace17b2",
   "metadata": {},
   "outputs": [
    {
     "data": {
      "text/plain": [
       "array([[0, 1, 1, 1, 0],\n",
       "       [0, 2, 0, 1, 0],\n",
       "       [1, 0, 1, 0, 1],\n",
       "       [1, 1, 0, 0, 1]], dtype=int64)"
      ]
     },
     "execution_count": 8,
     "metadata": {},
     "output_type": "execute_result"
    }
   ],
   "source": [
    "bow.toarray()"
   ]
  },
  {
   "cell_type": "code",
   "execution_count": 9,
   "id": "c895d91d-7fe7-41db-a74a-8e5abbc725e3",
   "metadata": {},
   "outputs": [
    {
     "name": "stdout",
     "output_type": "stream",
     "text": [
      "[[0 1 1 1 0]]\n",
      "[[0 2 0 1 0]]\n",
      "[[1 0 1 0 1]]\n"
     ]
    }
   ],
   "source": [
    "print(bow[0].toarray())\n",
    "print(bow[1].toarray())\n",
    "print(bow[2].toarray()) "
   ]
  },
  {
   "cell_type": "markdown",
   "id": "1175c828-359c-4283-ac95-c63c3b8c9e0a",
   "metadata": {},
   "source": [
    "How bag-of-words vectors are formed:\n",
    "\n",
    "For each text, the vector is of length 5 (number of unique words). Each element in the vector shows how many times that word occurs in the sentence.\n",
    "\n",
    "Let's map the vocabulary:\n",
    "\n",
    "Index\tWord\n",
    "0\tcomment\n",
    "1\tdswithbappy\n",
    "2\tpeople\n",
    "3\twatch\n",
    "4\twrite\n",
    "Vector for each example:\n",
    "\n",
    "For text = \"people watch dswithbappy\"\n",
    "\n",
    "Counts:\n",
    "\n",
    "comment: 0\n",
    "\n",
    "dswithbappy: 1\n",
    "\n",
    "people: 1\n",
    "\n",
    "watch: 1\n",
    "\n",
    "write: 0\n",
    "\n",
    "Vector: `[0,]\n",
    "\n",
    "For text = \"dswithbappy watch dswithbappy\"\n",
    "\n",
    "Counts:\n",
    "\n",
    "comment: 0\n",
    "\n",
    "dswithbappy: 2 (appears twice)\n",
    "\n",
    "people: 0\n",
    "\n",
    "watch: 1\n",
    "\n",
    "write: 0\n",
    "\n",
    "Vector: `[0,]\n",
    "\n",
    "For text = \"people write comment\"\n",
    "\n",
    "Counts:\n",
    "\n",
    "comment: 1\n",
    "\n",
    "dswithbappy: 0\n",
    "\n",
    "people: 1\n",
    "\n",
    "watch: 0\n",
    "\n",
    "write: 1\n",
    "\n",
    "Vector: `[1,]\n",
    "\n",
    "Summary:\n",
    "The sparse matrix vectors you see:\n",
    "\n",
    "text\n",
    "[[0 1 1 1 0]]\n",
    "[[0 2 0 1 0]]\n",
    "[[1 0 1 0 1]]\n",
    "represent the count of each unique word (in the fixed vocabulary order) in each corresponding text from your DataFrame.\n",
    "\n",
    "Each position corresponds to the count of a specific word.\n",
    "\n",
    "The shape of the vector is the number of unique words (5 here).\n",
    "\n",
    "The values are word counts.\n",
    "\n",
    "So this is exactly how the BoW sparse matrix is formed from your text data using CountVectorizer."
   ]
  },
  {
   "cell_type": "code",
   "execution_count": 10,
   "id": "ddb22232-4cd4-49b8-a573-11006251b4d2",
   "metadata": {},
   "outputs": [
    {
     "data": {
      "text/plain": [
       "array([[0, 1, 0, 1, 0]], dtype=int64)"
      ]
     },
     "execution_count": 10,
     "metadata": {},
     "output_type": "execute_result"
    }
   ],
   "source": [
    "cv.transform(['Bappy watch dswithbappy']).toarray()"
   ]
  },
  {
   "cell_type": "code",
   "execution_count": 11,
   "id": "c1f7013c-6f86-4576-9e45-c652c2e31891",
   "metadata": {},
   "outputs": [],
   "source": [
    "X=bow.toarray()\n",
    "y=df['output']\n"
   ]
  },
  {
   "cell_type": "markdown",
   "id": "b8531ba7-44ba-42e4-9c18-aa89c94a7611",
   "metadata": {},
   "source": [
    "# N Gram"
   ]
  },
  {
   "cell_type": "code",
   "execution_count": 12,
   "id": "ee34bbef-05f8-46ac-b9b4-dfcd9b79a358",
   "metadata": {},
   "outputs": [
    {
     "data": {
      "text/html": [
       "<div>\n",
       "<style scoped>\n",
       "    .dataframe tbody tr th:only-of-type {\n",
       "        vertical-align: middle;\n",
       "    }\n",
       "\n",
       "    .dataframe tbody tr th {\n",
       "        vertical-align: top;\n",
       "    }\n",
       "\n",
       "    .dataframe thead th {\n",
       "        text-align: right;\n",
       "    }\n",
       "</style>\n",
       "<table border=\"1\" class=\"dataframe\">\n",
       "  <thead>\n",
       "    <tr style=\"text-align: right;\">\n",
       "      <th></th>\n",
       "      <th>text</th>\n",
       "      <th>output</th>\n",
       "    </tr>\n",
       "  </thead>\n",
       "  <tbody>\n",
       "    <tr>\n",
       "      <th>0</th>\n",
       "      <td>people watch dswithbappy</td>\n",
       "      <td>1</td>\n",
       "    </tr>\n",
       "    <tr>\n",
       "      <th>1</th>\n",
       "      <td>dswithbappy watch dswithbappy</td>\n",
       "      <td>1</td>\n",
       "    </tr>\n",
       "    <tr>\n",
       "      <th>2</th>\n",
       "      <td>people write comment</td>\n",
       "      <td>0</td>\n",
       "    </tr>\n",
       "    <tr>\n",
       "      <th>3</th>\n",
       "      <td>dswithbappy write comment</td>\n",
       "      <td>0</td>\n",
       "    </tr>\n",
       "  </tbody>\n",
       "</table>\n",
       "</div>"
      ],
      "text/plain": [
       "                            text  output\n",
       "0       people watch dswithbappy       1\n",
       "1  dswithbappy watch dswithbappy       1\n",
       "2           people write comment       0\n",
       "3      dswithbappy write comment       0"
      ]
     },
     "execution_count": 12,
     "metadata": {},
     "output_type": "execute_result"
    }
   ],
   "source": [
    "\n",
    "df = pd.DataFrame({\"text\":[\"people watch dswithbappy\",\n",
    "                         \"dswithbappy watch dswithbappy\",\n",
    "                         \"people write comment\",\n",
    "                          \"dswithbappy write comment\"],\"output\":[1,1,0,0]})\n",
    "df"
   ]
  },
  {
   "cell_type": "code",
   "execution_count": 14,
   "id": "6b039304-8495-49b8-bd5b-462bfbcf7c1b",
   "metadata": {},
   "outputs": [],
   "source": [
    "# BI Grams\n",
    "from sklearn.feature_extraction.text import CountVectorizer\n",
    "cv=CountVectorizer(ngram_range=(2,2))"
   ]
  },
  {
   "cell_type": "code",
   "execution_count": 16,
   "id": "7a12d97d-35c1-444a-8b39-9209f15a3618",
   "metadata": {},
   "outputs": [],
   "source": [
    "bow =cv.fit_transform(df['text'])"
   ]
  },
  {
   "cell_type": "code",
   "execution_count": 17,
   "id": "849f82c3-34f6-4280-a12c-f71d5ffa85ed",
   "metadata": {},
   "outputs": [
    {
     "name": "stdout",
     "output_type": "stream",
     "text": [
      "{'people watch': 2, 'watch dswithbappy': 4, 'dswithbappy watch': 0, 'people write': 3, 'write comment': 5, 'dswithbappy write': 1}\n"
     ]
    }
   ],
   "source": [
    "print(cv.vocabulary_)"
   ]
  },
  {
   "cell_type": "code",
   "execution_count": 18,
   "id": "47700f5a-9da5-46e4-b8cf-b73800498bfb",
   "metadata": {},
   "outputs": [
    {
     "name": "stdout",
     "output_type": "stream",
     "text": [
      "[[0 0 1 0 1 0]]\n",
      "[[1 0 0 0 1 0]]\n",
      "[[0 0 0 1 0 1]]\n"
     ]
    }
   ],
   "source": [
    "print(bow[0].toarray())\n",
    "print(bow[1].toarray())\n",
    "print(bow[2].toarray())"
   ]
  },
  {
   "cell_type": "code",
   "execution_count": 19,
   "id": "5c3fdad7-67aa-4625-b9b2-71504a1da05b",
   "metadata": {},
   "outputs": [],
   "source": [
    "#TI GRAM\n",
    "#\n",
    "from sklearn.feature_extraction.text import CountVectorizer\n",
    "cv=CountVectorizer(ngram_range=(3,3))\n"
   ]
  },
  {
   "cell_type": "code",
   "execution_count": 20,
   "id": "7de678f0-0c78-4ed8-9219-7123ea931c42",
   "metadata": {},
   "outputs": [],
   "source": [
    "bow =cv.fit_transform(df['text'])\n"
   ]
  },
  {
   "cell_type": "code",
   "execution_count": 21,
   "id": "c371b781-5f50-4bb9-9bfd-356886b258ee",
   "metadata": {},
   "outputs": [
    {
     "name": "stdout",
     "output_type": "stream",
     "text": [
      "{'people watch dswithbappy': 2, 'dswithbappy watch dswithbappy': 0, 'people write comment': 3, 'dswithbappy write comment': 1}\n"
     ]
    }
   ],
   "source": [
    "print(cv.vocabulary_)"
   ]
  },
  {
   "cell_type": "code",
   "execution_count": 22,
   "id": "79a34b93-a319-4fa1-b9fe-73fb79a0c392",
   "metadata": {},
   "outputs": [
    {
     "name": "stdout",
     "output_type": "stream",
     "text": [
      "[[0 0 1 0]]\n",
      "[[1 0 0 0]]\n",
      "[[0 0 0 1]]\n"
     ]
    }
   ],
   "source": [
    "print(bow[0].toarray())\n",
    "print(bow[1].toarray())\n",
    "print(bow[2].toarray())"
   ]
  },
  {
   "cell_type": "markdown",
   "id": "9fd39c94-c664-4d72-886f-36d6991eec69",
   "metadata": {},
   "source": [
    "# TF-IDF (Term frequency- Inverse document frequency"
   ]
  },
  {
   "cell_type": "code",
   "execution_count": 23,
   "id": "ef87288e-864c-4131-88bb-f5f52a524d87",
   "metadata": {},
   "outputs": [
    {
     "data": {
      "text/html": [
       "<div>\n",
       "<style scoped>\n",
       "    .dataframe tbody tr th:only-of-type {\n",
       "        vertical-align: middle;\n",
       "    }\n",
       "\n",
       "    .dataframe tbody tr th {\n",
       "        vertical-align: top;\n",
       "    }\n",
       "\n",
       "    .dataframe thead th {\n",
       "        text-align: right;\n",
       "    }\n",
       "</style>\n",
       "<table border=\"1\" class=\"dataframe\">\n",
       "  <thead>\n",
       "    <tr style=\"text-align: right;\">\n",
       "      <th></th>\n",
       "      <th>text</th>\n",
       "      <th>output</th>\n",
       "    </tr>\n",
       "  </thead>\n",
       "  <tbody>\n",
       "    <tr>\n",
       "      <th>0</th>\n",
       "      <td>people watch dswithbappy</td>\n",
       "      <td>1</td>\n",
       "    </tr>\n",
       "    <tr>\n",
       "      <th>1</th>\n",
       "      <td>dswithbappy watch dswithbappy</td>\n",
       "      <td>1</td>\n",
       "    </tr>\n",
       "    <tr>\n",
       "      <th>2</th>\n",
       "      <td>people write comment</td>\n",
       "      <td>0</td>\n",
       "    </tr>\n",
       "    <tr>\n",
       "      <th>3</th>\n",
       "      <td>dswithbappy write comment</td>\n",
       "      <td>0</td>\n",
       "    </tr>\n",
       "  </tbody>\n",
       "</table>\n",
       "</div>"
      ],
      "text/plain": [
       "                            text  output\n",
       "0       people watch dswithbappy       1\n",
       "1  dswithbappy watch dswithbappy       1\n",
       "2           people write comment       0\n",
       "3      dswithbappy write comment       0"
      ]
     },
     "execution_count": 23,
     "metadata": {},
     "output_type": "execute_result"
    }
   ],
   "source": [
    "\n",
    "df = pd.DataFrame({\"text\":[\"people watch dswithbappy\",\n",
    "                         \"dswithbappy watch dswithbappy\",\n",
    "                         \"people write comment\",\n",
    "                          \"dswithbappy write comment\"],\"output\":[1,1,0,0]})\n",
    "\n",
    "df"
   ]
  },
  {
   "cell_type": "code",
   "execution_count": 25,
   "id": "e4160a0b-817d-4f24-93a0-94efe69ba8c1",
   "metadata": {},
   "outputs": [],
   "source": [
    "# from sklearn.feature_extraction.text import TfidVectorizer\n",
    "# tfid=TfidVectorizer()"
   ]
  },
  {
   "cell_type": "code",
   "execution_count": 26,
   "id": "1135c081-8266-40e9-bd03-43793e227fb0",
   "metadata": {},
   "outputs": [],
   "source": [
    "from sklearn.feature_extraction.text import TfidfVectorizer\n",
    "tfid = TfidfVectorizer()\n"
   ]
  },
  {
   "cell_type": "code",
   "execution_count": 27,
   "id": "ae6863ef-0d87-4242-b986-2f22236dc9c2",
   "metadata": {},
   "outputs": [],
   "source": [
    "arr=tfid.fit_transform(df['text']).toarray()"
   ]
  },
  {
   "cell_type": "code",
   "execution_count": 28,
   "id": "821d7fb0-543a-4e3e-991e-000634246601",
   "metadata": {},
   "outputs": [
    {
     "data": {
      "text/plain": [
       "array([[0.        , 0.49681612, 0.61366674, 0.61366674, 0.        ],\n",
       "       [0.        , 0.8508161 , 0.        , 0.52546357, 0.        ],\n",
       "       [0.57735027, 0.        , 0.57735027, 0.        , 0.57735027],\n",
       "       [0.61366674, 0.49681612, 0.        , 0.        , 0.61366674]])"
      ]
     },
     "execution_count": 28,
     "metadata": {},
     "output_type": "execute_result"
    }
   ],
   "source": [
    "arr"
   ]
  },
  {
   "cell_type": "markdown",
   "id": "96b523f5-0d79-45c9-83c9-130419fe6351",
   "metadata": {},
   "source": [
    "### The TfidfVectorizer \n",
    "in scikit-learn  is similar in usage to CountVectorizer but instead of just counting word frequencies, it computes the TF-IDF score for each word in each document.\n",
    "\n",
    "How TF-IDF Vectorizer works (using your example texts):\n",
    "Your text data:\n",
    "\n",
    "\"people watch dswithbappy\"\n",
    "\n",
    "\"dswithbappy watch dswithbappy\"\n",
    "\n",
    "\"people write comment\"\n",
    "\n",
    "\"dswithbappy write comment\"\n",
    "\n",
    "TfidfVectorizer transforms this corpus into a matrix where each element represents the TF-IDF score of a word in a particular document.\n",
    "\n",
    "What is TF-IDF?\n",
    "TF (Term Frequency): Measures how frequently a term occurs in a document, similar to the count in Bag of Words.\n",
    "\n",
    "IDF (Inverse Document Frequency): Measures how important a term is across all documents. Words common to many documents get lower weight; rare words get higher weight.\n",
    "\n",
    "TF-IDF score combines these to represent important words that are frequent in a document but rare across all documents.\n",
    "\n",
    "Workflow:\n",
    "Build vocabulary: Extract unique words from all documents (like in CountVectorizer).\n",
    "\n",
    "Compute term frequency (TF): Count how often each word appears in each document.\n",
    "\n",
    "Compute inverse document frequency (IDF): Calculate how rare each word is across all documents.\n",
    "\n",
    "Calculate TF-IDF: Multiply TF with IDF to generate weighted scores.\n",
    "\n",
    "Normalize: By default, vectors are normalized (L2 norm) to scale patterns evenly."
   ]
  },
  {
   "cell_type": "markdown",
   "id": "c3720048-f49b-4c4a-ba5f-0d420dc2d64e",
   "metadata": {},
   "source": [
    "### Key outcomes:\n",
    "Words like \"dswithbappy\" that appear multiple times in some documents get a higher TF, but since it appears in many documents, its IDF score will reduce it somewhat.\n",
    "\n",
    "Words that appear rarely or only in a specific document (like \"people\", \"comment\", \"write\") will have relatively higher TF-IDF scores to highlight their importance in that document.\n",
    "\n",
    "Resulting matrix is sparse and normalized but represents weighted features rather than raw counts.\n",
    "\n",
    "Why use TF-IDF over CountVectorizer?\n",
    "Bag of Words treats all words equally regardless of their frequency across documents.\n",
    "\n",
    "TF-IDF weights words to reduce the effect of common words that are less informative (like \"watch\" if it appears everywhere).\n",
    "\n",
    "TF-IDF leads to better feature representation for tasks like text classification or clustering."
   ]
  },
  {
   "cell_type": "code",
   "execution_count": 29,
   "id": "a53de313-0cf1-4815-acc2-3f47bc054b46",
   "metadata": {},
   "outputs": [
    {
     "name": "stdout",
     "output_type": "stream",
     "text": [
      "[1.51082562 1.22314355 1.51082562 1.51082562 1.51082562]\n"
     ]
    }
   ],
   "source": [
    "\n",
    "print(tfid.idf_)"
   ]
  },
  {
   "cell_type": "code",
   "execution_count": null,
   "id": "f2bfd557-37a6-459a-a6fa-6f1b83239130",
   "metadata": {},
   "outputs": [],
   "source": []
  }
 ],
 "metadata": {
  "kernelspec": {
   "display_name": "Python 3 (ipykernel)",
   "language": "python",
   "name": "python3"
  },
  "language_info": {
   "codemirror_mode": {
    "name": "ipython",
    "version": 3
   },
   "file_extension": ".py",
   "mimetype": "text/x-python",
   "name": "python",
   "nbconvert_exporter": "python",
   "pygments_lexer": "ipython3",
   "version": "3.10.5"
  },
  "widgets": {
   "application/vnd.jupyter.widget-state+json": {
    "state": {},
    "version_major": 2,
    "version_minor": 0
   }
  }
 },
 "nbformat": 4,
 "nbformat_minor": 5
}
